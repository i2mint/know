{
 "cells": [
  {
   "cell_type": "code",
   "execution_count": 2,
   "metadata": {},
   "outputs": [],
   "source": [
    "from know.base import Slabs\n",
    "def make_a_slabs_iter():\n",
    "\n",
    "    # Mocking the sensor readers\n",
    "    audio_sensor_read = iter([[1, 2, 3], [-96, 87, -92], [320, -96, 99]]).__next__\n",
    "    light_sensor_read = iter([126, 501, 523]).__next__\n",
    "    movement_sensor_read = iter([None, None, True]).__next__\n",
    "\n",
    "    return Slabs(\n",
    "        # The first three components get data from the sensors.\n",
    "        # The *_read objects are all callable, returning the next\n",
    "        # chunk of data for that sensor, if any.\n",
    "        audio=audio_sensor_read,\n",
    "        light=light_sensor_read,\n",
    "        movement=movement_sensor_read,\n",
    "        # The next\n",
    "        should_turn_movement_sensor_on = lambda audio, light: vol(audio) * light > 50000,\n",
    "        human_presence_score = lambda audio, light, movement: movement and sum([vol(audio), light]),\n",
    "        should_notify = lambda human_presence_score: human_presence_score and human_presence_score > 700,\n",
    "        notify = lambda should_notify: print('someone is there') if should_notify else None\n",
    "    )"
   ]
  },
  {
   "cell_type": "code",
   "execution_count": 17,
   "metadata": {},
   "outputs": [],
   "source": [
    "slabsiter = make_a_slabs_iter()"
   ]
  },
  {
   "cell_type": "code",
   "execution_count": 18,
   "metadata": {},
   "outputs": [
    {
     "ename": "NameError",
     "evalue": "name 'vol' is not defined",
     "output_type": "error",
     "traceback": [
      "\u001b[0;31m---------------------------------------------------------------------------\u001b[0m",
      "\u001b[0;31mNameError\u001b[0m                                 Traceback (most recent call last)",
      "\u001b[1;32m/Users/sylvain/Desktop/dev/otosense/know/know/scrap/notebook.ipynb Cell 3\u001b[0m in \u001b[0;36m<cell line: 1>\u001b[0;34m()\u001b[0m\n\u001b[0;32m----> <a href='vscode-notebook-cell:/Users/sylvain/Desktop/dev/otosense/know/know/scrap/notebook.ipynb#X10sZmlsZQ%3D%3D?line=0'>1</a>\u001b[0m slabsiter()\n",
      "File \u001b[0;32m~/Desktop/dev/otosense/know/know/base.py:359\u001b[0m, in \u001b[0;36mSlabsIter.run\u001b[0;34m(self)\u001b[0m\n\u001b[1;32m    358\u001b[0m \u001b[39mdef\u001b[39;00m \u001b[39mrun\u001b[39m(\u001b[39mself\u001b[39m):\n\u001b[0;32m--> 359\u001b[0m     \u001b[39mfor\u001b[39;00m _ \u001b[39min\u001b[39;00m \u001b[39mself\u001b[39m:\n\u001b[1;32m    360\u001b[0m         \u001b[39mpass\u001b[39;00m\n",
      "File \u001b[0;32m~/Desktop/dev/otosense/know/know/base.py:341\u001b[0m, in \u001b[0;36mSlabsIter.__iter__\u001b[0;34m(self)\u001b[0m\n\u001b[1;32m    339\u001b[0m \u001b[39mwhile\u001b[39;00m \u001b[39mTrue\u001b[39;00m:  \u001b[39m# loop until you encounter a handled exception\u001b[39;00m\n\u001b[1;32m    340\u001b[0m     \u001b[39mtry\u001b[39;00m:\n\u001b[0;32m--> 341\u001b[0m         \u001b[39myield\u001b[39;00m \u001b[39mnext\u001b[39;49m(\u001b[39mself\u001b[39;49m)\n\u001b[1;32m    342\u001b[0m     \u001b[39mexcept\u001b[39;00m \u001b[39mself\u001b[39m\u001b[39m.\u001b[39m_handled_exception_types \u001b[39mas\u001b[39;00m exc_val:\n\u001b[1;32m    343\u001b[0m         handler_output \u001b[39m=\u001b[39m _handle_exception(\n\u001b[1;32m    344\u001b[0m             \u001b[39mself\u001b[39m, exc_val, \u001b[39mself\u001b[39m\u001b[39m.\u001b[39mhandle_exceptions\n\u001b[1;32m    345\u001b[0m         )\n",
      "File \u001b[0;32m~/Desktop/dev/otosense/know/know/base.py:334\u001b[0m, in \u001b[0;36mSlabsIter.__next__\u001b[0;34m(self)\u001b[0m\n\u001b[1;32m    329\u001b[0m \u001b[39mdef\u001b[39;00m \u001b[39m__next__\u001b[39m(\u001b[39mself\u001b[39m):\n\u001b[1;32m    330\u001b[0m     \u001b[39m\"\"\"Get the next slab by calling _call_on_scope on an new empty scope.\u001b[39;00m\n\u001b[1;32m    331\u001b[0m \u001b[39m    At least one of the components will have to be argument-less and provide\u001b[39;00m\n\u001b[1;32m    332\u001b[0m \u001b[39m    some data for other components to get their inputs from, if any are needed.\u001b[39;00m\n\u001b[1;32m    333\u001b[0m \u001b[39m    \"\"\"\u001b[39;00m\n\u001b[0;32m--> 334\u001b[0m     \u001b[39mreturn\u001b[39;00m \u001b[39mself\u001b[39;49m\u001b[39m.\u001b[39;49m_call_on_scope(scope\u001b[39m=\u001b[39;49m{})\n",
      "File \u001b[0;32m~/Desktop/dev/otosense/know/know/base.py:326\u001b[0m, in \u001b[0;36mSlabsIter._call_on_scope\u001b[0;34m(self, scope)\u001b[0m\n\u001b[1;32m    322\u001b[0m \u001b[39m# for each component\u001b[39;00m\n\u001b[1;32m    323\u001b[0m \u001b[39mfor\u001b[39;00m name, component \u001b[39min\u001b[39;00m \u001b[39mself\u001b[39m\u001b[39m.\u001b[39mcomponents\u001b[39m.\u001b[39mitems():\n\u001b[1;32m    324\u001b[0m     \u001b[39m# call the component using scope to source any arguments it needs\u001b[39;00m\n\u001b[1;32m    325\u001b[0m     \u001b[39m# and write the result in scope, under the component's name.\u001b[39;00m\n\u001b[0;32m--> 326\u001b[0m     scope[name] \u001b[39m=\u001b[39m _call_from_dict(scope, component, \u001b[39mself\u001b[39;49m\u001b[39m.\u001b[39;49msigs[name])\n\u001b[1;32m    327\u001b[0m \u001b[39mreturn\u001b[39;00m scope\n",
      "File \u001b[0;32m~/Desktop/dev/otosense/know/know/base.py:171\u001b[0m, in \u001b[0;36m_call_from_dict\u001b[0;34m(kwargs, func, sig)\u001b[0m\n\u001b[1;32m    145\u001b[0m \u001b[39m\"\"\"A i2.call_forgivingly optimized for our purpose\u001b[39;00m\n\u001b[1;32m    146\u001b[0m \n\u001b[1;32m    147\u001b[0m \u001b[39mThe sig argument needs to be the Sig(func) to work correctly.\u001b[39;00m\n\u001b[0;32m   (...)\u001b[0m\n\u001b[1;32m    162\u001b[0m \n\u001b[1;32m    163\u001b[0m \u001b[39m\"\"\"\u001b[39;00m\n\u001b[1;32m    164\u001b[0m args, kwargs \u001b[39m=\u001b[39m sig\u001b[39m.\u001b[39margs_and_kwargs_from_kwargs(\n\u001b[1;32m    165\u001b[0m     kwargs,\n\u001b[1;32m    166\u001b[0m     allow_excess\u001b[39m=\u001b[39m\u001b[39mTrue\u001b[39;00m,\n\u001b[0;32m   (...)\u001b[0m\n\u001b[1;32m    169\u001b[0m     apply_defaults\u001b[39m=\u001b[39m\u001b[39mTrue\u001b[39;00m,\n\u001b[1;32m    170\u001b[0m )\n\u001b[0;32m--> 171\u001b[0m \u001b[39mreturn\u001b[39;00m func(\u001b[39m*\u001b[39;49margs, \u001b[39m*\u001b[39;49m\u001b[39m*\u001b[39;49mkwargs)\n",
      "\u001b[1;32m/Users/sylvain/Desktop/dev/otosense/know/know/scrap/notebook.ipynb Cell 3\u001b[0m in \u001b[0;36mmake_a_slabs_iter.<locals>.<lambda>\u001b[0;34m(audio, light)\u001b[0m\n\u001b[1;32m      <a href='vscode-notebook-cell:/Users/sylvain/Desktop/dev/otosense/know/know/scrap/notebook.ipynb#X10sZmlsZQ%3D%3D?line=5'>6</a>\u001b[0m light_sensor_read \u001b[39m=\u001b[39m \u001b[39miter\u001b[39m([\u001b[39m126\u001b[39m, \u001b[39m501\u001b[39m, \u001b[39m523\u001b[39m])\u001b[39m.\u001b[39m\u001b[39m__next__\u001b[39m\n\u001b[1;32m      <a href='vscode-notebook-cell:/Users/sylvain/Desktop/dev/otosense/know/know/scrap/notebook.ipynb#X10sZmlsZQ%3D%3D?line=6'>7</a>\u001b[0m movement_sensor_read \u001b[39m=\u001b[39m \u001b[39miter\u001b[39m([\u001b[39mNone\u001b[39;00m, \u001b[39mNone\u001b[39;00m, \u001b[39mTrue\u001b[39;00m])\u001b[39m.\u001b[39m\u001b[39m__next__\u001b[39m\n\u001b[1;32m      <a href='vscode-notebook-cell:/Users/sylvain/Desktop/dev/otosense/know/know/scrap/notebook.ipynb#X10sZmlsZQ%3D%3D?line=8'>9</a>\u001b[0m \u001b[39mreturn\u001b[39;00m Slabs(\n\u001b[1;32m     <a href='vscode-notebook-cell:/Users/sylvain/Desktop/dev/otosense/know/know/scrap/notebook.ipynb#X10sZmlsZQ%3D%3D?line=9'>10</a>\u001b[0m     \u001b[39m# The first three components get data from the sensors.\u001b[39;00m\n\u001b[1;32m     <a href='vscode-notebook-cell:/Users/sylvain/Desktop/dev/otosense/know/know/scrap/notebook.ipynb#X10sZmlsZQ%3D%3D?line=10'>11</a>\u001b[0m     \u001b[39m# The *_read objects are all callable, returning the next\u001b[39;00m\n\u001b[1;32m     <a href='vscode-notebook-cell:/Users/sylvain/Desktop/dev/otosense/know/know/scrap/notebook.ipynb#X10sZmlsZQ%3D%3D?line=11'>12</a>\u001b[0m     \u001b[39m# chunk of data for that sensor, if any.\u001b[39;00m\n\u001b[1;32m     <a href='vscode-notebook-cell:/Users/sylvain/Desktop/dev/otosense/know/know/scrap/notebook.ipynb#X10sZmlsZQ%3D%3D?line=12'>13</a>\u001b[0m     audio\u001b[39m=\u001b[39maudio_sensor_read,\n\u001b[1;32m     <a href='vscode-notebook-cell:/Users/sylvain/Desktop/dev/otosense/know/know/scrap/notebook.ipynb#X10sZmlsZQ%3D%3D?line=13'>14</a>\u001b[0m     light\u001b[39m=\u001b[39mlight_sensor_read,\n\u001b[1;32m     <a href='vscode-notebook-cell:/Users/sylvain/Desktop/dev/otosense/know/know/scrap/notebook.ipynb#X10sZmlsZQ%3D%3D?line=14'>15</a>\u001b[0m     movement\u001b[39m=\u001b[39mmovement_sensor_read,\n\u001b[1;32m     <a href='vscode-notebook-cell:/Users/sylvain/Desktop/dev/otosense/know/know/scrap/notebook.ipynb#X10sZmlsZQ%3D%3D?line=15'>16</a>\u001b[0m     \u001b[39m# The next\u001b[39;00m\n\u001b[0;32m---> <a href='vscode-notebook-cell:/Users/sylvain/Desktop/dev/otosense/know/know/scrap/notebook.ipynb#X10sZmlsZQ%3D%3D?line=16'>17</a>\u001b[0m     should_turn_movement_sensor_on \u001b[39m=\u001b[39m \u001b[39mlambda\u001b[39;00m audio, light: vol(audio) \u001b[39m*\u001b[39m light \u001b[39m>\u001b[39m \u001b[39m50000\u001b[39m,\n\u001b[1;32m     <a href='vscode-notebook-cell:/Users/sylvain/Desktop/dev/otosense/know/know/scrap/notebook.ipynb#X10sZmlsZQ%3D%3D?line=17'>18</a>\u001b[0m     human_presence_score \u001b[39m=\u001b[39m \u001b[39mlambda\u001b[39;00m audio, light, movement: movement \u001b[39mand\u001b[39;00m \u001b[39msum\u001b[39m([vol(audio), light]),\n\u001b[1;32m     <a href='vscode-notebook-cell:/Users/sylvain/Desktop/dev/otosense/know/know/scrap/notebook.ipynb#X10sZmlsZQ%3D%3D?line=18'>19</a>\u001b[0m     should_notify \u001b[39m=\u001b[39m \u001b[39mlambda\u001b[39;00m human_presence_score: human_presence_score \u001b[39mand\u001b[39;00m human_presence_score \u001b[39m>\u001b[39m \u001b[39m700\u001b[39m,\n\u001b[1;32m     <a href='vscode-notebook-cell:/Users/sylvain/Desktop/dev/otosense/know/know/scrap/notebook.ipynb#X10sZmlsZQ%3D%3D?line=19'>20</a>\u001b[0m     notify \u001b[39m=\u001b[39m \u001b[39mlambda\u001b[39;00m should_notify: \u001b[39mprint\u001b[39m(\u001b[39m'\u001b[39m\u001b[39msomeone is there\u001b[39m\u001b[39m'\u001b[39m) \u001b[39mif\u001b[39;00m should_notify \u001b[39melse\u001b[39;00m \u001b[39mNone\u001b[39;00m\n\u001b[1;32m     <a href='vscode-notebook-cell:/Users/sylvain/Desktop/dev/otosense/know/know/scrap/notebook.ipynb#X10sZmlsZQ%3D%3D?line=20'>21</a>\u001b[0m )\n",
      "\u001b[0;31mNameError\u001b[0m: name 'vol' is not defined"
     ]
    }
   ],
   "source": [
    "slabsiter()"
   ]
  },
  {
   "cell_type": "code",
   "execution_count": 11,
   "metadata": {},
   "outputs": [
    {
     "data": {
      "text/plain": [
       "<Sig ()>"
      ]
     },
     "execution_count": 11,
     "metadata": {},
     "output_type": "execute_result"
    }
   ],
   "source": [
    "from i2 import Sig\n",
    "Sig(slabsiter.components['audio'])"
   ]
  },
  {
   "cell_type": "code",
   "execution_count": 13,
   "metadata": {},
   "outputs": [
    {
     "data": {
      "text/plain": [
       "{'audio': <method-wrapper '__next__' of list_iterator object at 0x7fd9e93176d0>,\n",
       " 'light': <method-wrapper '__next__' of list_iterator object at 0x7fd9e9317250>,\n",
       " 'movement': <method-wrapper '__next__' of list_iterator object at 0x7fd9e9317940>,\n",
       " 'should_turn_movement_sensor_on': <function __main__.make_a_slabs_iter.<locals>.<lambda>(audio, light)>,\n",
       " 'human_presence_score': <function __main__.make_a_slabs_iter.<locals>.<lambda>(audio, light, movement)>,\n",
       " 'should_notify': <function __main__.make_a_slabs_iter.<locals>.<lambda>(human_presence_score)>,\n",
       " 'notify': <function __main__.make_a_slabs_iter.<locals>.<lambda>(should_notify)>}"
      ]
     },
     "execution_count": 13,
     "metadata": {},
     "output_type": "execute_result"
    }
   ],
   "source": [
    "slabsiter.components"
   ]
  },
  {
   "cell_type": "code",
   "execution_count": 16,
   "metadata": {},
   "outputs": [
    {
     "data": {
      "text/plain": [
       "{'audio': <method-wrapper '__next__' of list_iterator object at 0x7fd9e93176d0>,\n",
       " 'light': <method-wrapper '__next__' of list_iterator object at 0x7fd9e9317250>,\n",
       " 'movement': <method-wrapper '__next__' of list_iterator object at 0x7fd9e9317940>,\n",
       " 'should_turn_movement_sensor_on': <function __main__.make_a_slabs_iter.<locals>.<lambda>(audio, light)>,\n",
       " 'human_presence_score': <function __main__.make_a_slabs_iter.<locals>.<lambda>(audio, light, movement)>,\n",
       " 'should_notify': <function __main__.make_a_slabs_iter.<locals>.<lambda>(human_presence_score)>,\n",
       " 'notify': <function __main__.make_a_slabs_iter.<locals>.<lambda>(should_notify)>}"
      ]
     },
     "execution_count": 16,
     "metadata": {},
     "output_type": "execute_result"
    }
   ],
   "source": [
    "slabsiter.components"
   ]
  },
  {
   "cell_type": "code",
   "execution_count": 15,
   "metadata": {},
   "outputs": [
    {
     "data": {
      "text/plain": [
       "{'audio': <Sig ()>,\n",
       " 'light': <Sig ()>,\n",
       " 'movement': <Sig ()>,\n",
       " 'should_turn_movement_sensor_on': <Sig (audio, light)>,\n",
       " 'human_presence_score': <Sig (audio, light, movement)>,\n",
       " 'should_notify': <Sig (human_presence_score)>,\n",
       " 'notify': <Sig (should_notify)>}"
      ]
     },
     "execution_count": 15,
     "metadata": {},
     "output_type": "execute_result"
    }
   ],
   "source": [
    "slabsiter.sigs"
   ]
  },
  {
   "cell_type": "code",
   "execution_count": null,
   "metadata": {},
   "outputs": [],
   "source": [
    "from i2"
   ]
  }
 ],
 "metadata": {
  "kernelspec": {
   "display_name": "Python 3.8.11 ('otopy38')",
   "language": "python",
   "name": "python3"
  },
  "language_info": {
   "codemirror_mode": {
    "name": "ipython",
    "version": 3
   },
   "file_extension": ".py",
   "mimetype": "text/x-python",
   "name": "python",
   "nbconvert_exporter": "python",
   "pygments_lexer": "ipython3",
   "version": "3.8.11"
  },
  "orig_nbformat": 4,
  "vscode": {
   "interpreter": {
    "hash": "1a569799154504b406baf5195ac89fceebc6fb1ed8aa567618566bf3d18c8582"
   }
  }
 },
 "nbformat": 4,
 "nbformat_minor": 2
}
